{
 "cells": [
  {
   "cell_type": "code",
   "execution_count": 1,
   "metadata": {},
   "outputs": [
    {
     "name": "stdout",
     "output_type": "stream",
     "text": [
      "(0, 20, 8)\n"
     ]
    }
   ],
   "source": [
    "from pxr import Usd\n",
    "print(Usd.GetVersion())"
   ]
  },
  {
   "cell_type": "code",
   "execution_count": 2,
   "metadata": {},
   "outputs": [
    {
     "name": "stdout",
     "output_type": "stream",
     "text": [
      "Usd.Stage.Open(rootLayer=Sdf.Find('tv_retro.usdz'), sessionLayer=Sdf.Find('anon:0x2e86790:tv_retro-session.usda'), pathResolverContext=Ar.DefaultResolverContext(['/home/jovyan/work']))\n"
     ]
    }
   ],
   "source": [
    "tv = Usd.Stage.Open(\"tv_retro.usdz\")\n",
    "print(tv)"
   ]
  },
  {
   "cell_type": "code",
   "execution_count": null,
   "metadata": {},
   "outputs": [],
   "source": []
  }
 ],
 "metadata": {
  "kernelspec": {
   "display_name": "Python 3",
   "language": "python",
   "name": "python3"
  },
  "language_info": {
   "codemirror_mode": {
    "name": "ipython",
    "version": 3
   },
   "file_extension": ".py",
   "mimetype": "text/x-python",
   "name": "python",
   "nbconvert_exporter": "python",
   "pygments_lexer": "ipython3",
   "version": "3.7.3"
  }
 },
 "nbformat": 4,
 "nbformat_minor": 4
}
