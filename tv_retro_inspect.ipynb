{
 "cells": [
  {
   "cell_type": "markdown",
   "metadata": {},
   "source": [
    "# USD Basics\n",
    "## Print USD Version"
   ]
  },
  {
   "cell_type": "code",
   "execution_count": 2,
   "metadata": {},
   "outputs": [
    {
     "name": "stdout",
     "output_type": "stream",
     "text": [
      "(0, 20, 8)\n"
     ]
    }
   ],
   "source": [
    "from pxr import Usd\n",
    "print(Usd.GetVersion())"
   ]
  },
  {
   "cell_type": "markdown",
   "metadata": {},
   "source": [
    "## Open the a USD file"
   ]
  },
  {
   "cell_type": "code",
   "execution_count": 4,
   "metadata": {},
   "outputs": [
    {
     "name": "stdout",
     "output_type": "stream",
     "text": [
      "Stage root layer: /home/jovyan/tv_retro.usdz\n"
     ]
    }
   ],
   "source": [
    "stage = Usd.Stage.Open(\"tv_retro.usdz\")\n",
    "print(f\"Stage root layer: {stage.GetRootLayer().realPath}\")"
   ]
  },
  {
   "cell_type": "markdown",
   "metadata": {},
   "source": [
    "## Iterate Prims"
   ]
  },
  {
   "cell_type": "code",
   "execution_count": 5,
   "metadata": {},
   "outputs": [
    {
     "name": "stdout",
     "output_type": "stream",
     "text": [
      "prim / []\n",
      "prim /tv_retro [Xform]\n",
      "prim /tv_retro/RetroTVBody [Mesh]\n",
      "prim /tv_retro/RetroTVScreen [Mesh]\n",
      "prim /tv_retro/Looks [Scope]\n",
      "prim /tv_retro/Looks/pxrUsdPreviewSurface1SG [Material]\n",
      "prim /tv_retro/Looks/pxrUsdPreviewSurface1SG/RetroTVBodyMaterial [Shader]\n",
      "prim /tv_retro/Looks/pxrUsdPreviewSurface1SG/file5 [Shader]\n",
      "prim /tv_retro/Looks/pxrUsdPreviewSurface1SG/file5/TexCoordReader [Shader]\n",
      "prim /tv_retro/Looks/pxrUsdPreviewSurface1SG/file7 [Shader]\n",
      "..\n",
      "The kitchen contains 24 prims!\n"
     ]
    }
   ],
   "source": [
    "for numPrims, prim in enumerate(Usd.PrimRange(stage.GetPseudoRoot())):\n",
    "    if numPrims < 10: # Only print the first 10 prims\n",
    "        print(f\"prim {prim.GetPath()} [{prim.GetTypeName()}]\")\n",
    "    elif numPrims % 10 == 1: # Otherwise print a dot for every 10 prims\n",
    "        print(\".\", end = '')\n",
    "print(\"\")\n",
    "print(f\"The kitchen contains {numPrims} prims!\")"
   ]
  },
  {
   "cell_type": "code",
   "execution_count": 7,
   "metadata": {},
   "outputs": [
    {
     "name": "stdout",
     "output_type": "stream",
     "text": [
      "The kitchen contains 19118 points!\n"
     ]
    }
   ],
   "source": [
    "from pxr import UsdGeom\n",
    "numPoints = 0\n",
    "for prim in Usd.PrimRange(stage.GetPseudoRoot()):\n",
    "    if prim.IsA(UsdGeom.PointBased):\n",
    "        pb = UsdGeom.PointBased(prim)\n",
    "        numPoints += len(pb.GetPointsAttr().Get())\n",
    "print(f\"The kitchen contains {numPoints} points!\")"
   ]
  }
 ],
 "metadata": {
  "kernelspec": {
   "display_name": "Python 3",
   "language": "python",
   "name": "python3"
  },
  "language_info": {
   "codemirror_mode": {
    "name": "ipython",
    "version": 3
   },
   "file_extension": ".py",
   "mimetype": "text/x-python",
   "name": "python",
   "nbconvert_exporter": "python",
   "pygments_lexer": "ipython3",
   "version": "3.7.3"
  }
 },
 "nbformat": 4,
 "nbformat_minor": 4
}
